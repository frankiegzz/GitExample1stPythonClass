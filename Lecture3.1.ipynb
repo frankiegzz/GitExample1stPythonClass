{
 "cells": [
  {
   "cell_type": "code",
   "execution_count": null,
   "id": "6dbd7a03-2be9-4388-aa16-389fd378d88a",
   "metadata": {},
   "outputs": [],
   "source": [
    "# single line comment in python is just a hashtag before it"
   ]
  },
  {
   "cell_type": "code",
   "execution_count": null,
   "id": "9c8f7451-dd2d-49b2-8f87-3941d36fed51",
   "metadata": {},
   "outputs": [],
   "source": [
    "\"\"\"\n",
    "\n",
    "this is\n",
    "your\n",
    "multi line\n",
    "commenting\n",
    "\n",
    "anything between this 3 quotations is a comment\n",
    "\n",
    "\"\"\"\n",
    "\n"
   ]
  },
  {
   "cell_type": "code",
   "execution_count": null,
   "id": "198797ef-3ae3-4060-bbc2-d5abc64ae598",
   "metadata": {},
   "outputs": [],
   "source": [
    "import pandas as pd\n",
    "\n",
    "# to maske this as a markdown, on dropdown, just select markdown"
   ]
  },
  {
   "cell_type": "code",
   "execution_count": null,
   "id": "4d8d78bb-0d27-464a-9125-d49713e8dcd9",
   "metadata": {},
   "outputs": [],
   "source": [
    "\"\"\"\n",
    "\n",
    "to run your code in notebook\n",
    "\n",
    "crtl + enter, it runs the code and keeps the cursos where it was\n",
    "\n",
    "shift + enter, it runs the code and goes to the next code cell\n",
    "\n",
    "\"\"\"\n"
   ]
  },
  {
   "cell_type": "markdown",
   "id": "4e2a3f17-d8d6-4798-8aaa-1710b148833e",
   "metadata": {},
   "source": [
    "# how to print"
   ]
  },
  {
   "cell_type": "code",
   "execution_count": 2,
   "id": "c89230d0-baf7-46bd-bf6a-71cc92d4a3a4",
   "metadata": {},
   "outputs": [],
   "source": [
    "y = 7 \n",
    "z = 8"
   ]
  },
  {
   "cell_type": "code",
   "execution_count": 1,
   "id": "3bff76f3-c365-4a00-aa39-5c790471af2d",
   "metadata": {},
   "outputs": [],
   "source": [
    "planet = \"earth\" # planet is a varibale that is holding a string value\n",
    "diameter = 12724 # diameter is a varibale that is holding an integer value"
   ]
  },
  {
   "cell_type": "code",
   "execution_count": 3,
   "id": "8156a1b0-a6b3-4759-8a83-5f5fef849a1d",
   "metadata": {},
   "outputs": [],
   "source": [
    "diameter"
   ]
  },
  {
   "cell_type": "code",
   "execution_count": 4,
   "id": "ec04f78a-c520-4bfd-b47a-ac28f48f0ada",
   "metadata": {},
   "outputs": [
    {
     "name": "stdout",
     "output_type": "stream",
     "text": [
      "12724\n"
     ]
    }
   ],
   "source": [
    "print(diameter)"
   ]
  },
  {
   "cell_type": "code",
   "execution_count": 6,
   "id": "b9e51dea-497e-4a80-946a-8f7b55615d3c",
   "metadata": {},
   "outputs": [
    {
     "data": {
      "text/plain": [
       "str"
      ]
     },
     "execution_count": 6,
     "metadata": {},
     "output_type": "execute_result"
    }
   ],
   "source": [
    "type(planet)"
   ]
  },
  {
   "cell_type": "code",
   "execution_count": 7,
   "id": "df083a79-ffcb-415b-8898-517c6e4dbbb3",
   "metadata": {},
   "outputs": [
    {
     "data": {
      "text/plain": [
       "int"
      ]
     },
     "execution_count": 7,
     "metadata": {},
     "output_type": "execute_result"
    }
   ],
   "source": [
    "type(diameter)"
   ]
  },
  {
   "cell_type": "code",
   "execution_count": 8,
   "id": "067f1ee6-c3ff-48b2-9f7a-cd9af7714657",
   "metadata": {},
   "outputs": [
    {
     "data": {
      "text/plain": [
       "'earth'"
      ]
     },
     "execution_count": 8,
     "metadata": {},
     "output_type": "execute_result"
    }
   ],
   "source": [
    "planet"
   ]
  },
  {
   "cell_type": "code",
   "execution_count": 9,
   "id": "5c266138-538a-4a1e-901d-6d2fbf6f5910",
   "metadata": {},
   "outputs": [
    {
     "name": "stdout",
     "output_type": "stream",
     "text": [
      "earth\n"
     ]
    }
   ],
   "source": [
    "print(planet)"
   ]
  },
  {
   "cell_type": "code",
   "execution_count": 10,
   "id": "cd45bd5c-8639-4ca8-8285-4397d838d2d6",
   "metadata": {},
   "outputs": [
    {
     "name": "stdout",
     "output_type": "stream",
     "text": [
      "the diameter of earth is 12724\n"
     ]
    }
   ],
   "source": [
    "# first way of printing\n",
    "\n",
    "print(\"the diameter of {variable1} is {variable2}\".format(variable1 = planet, variable2 = diameter))"
   ]
  },
  {
   "cell_type": "code",
   "execution_count": 13,
   "id": "8630db26-fe16-43fb-a2aa-3723b7e74663",
   "metadata": {},
   "outputs": [
    {
     "name": "stdout",
     "output_type": "stream",
     "text": [
      "the diameter of earth is 12724\n"
     ]
    }
   ],
   "source": [
    "# second way of printing\n",
    "\n",
    "print(\"the diameter of \" + planet + \" is \" + str(diameter))"
   ]
  },
  {
   "cell_type": "code",
   "execution_count": 15,
   "id": "820e67aa-4b50-4673-a934-2196ff160bea",
   "metadata": {},
   "outputs": [
    {
     "name": "stdout",
     "output_type": "stream",
     "text": [
      "the diameter of earth is 12724\n"
     ]
    }
   ],
   "source": [
    "# third way of printing\n",
    "# f-string\n",
    "\n",
    "print(f\"the diameter of {planet} is {diameter}\")"
   ]
  },
  {
   "cell_type": "markdown",
   "id": "e4cd9576-2cc0-4bf4-9eec-b3085f56aaef",
   "metadata": {},
   "source": [
    "# data types"
   ]
  },
  {
   "cell_type": "code",
   "execution_count": 17,
   "id": "0ccbbf51-4662-43a9-99f4-d9178eb6a1cc",
   "metadata": {},
   "outputs": [
    {
     "data": {
      "text/plain": [
       "'\\n\\nnumerical: int, float\\nboolean: bool            True False\\nset: set                 set ()    {}    {set cannot ahve duplicates}  {set only contains the values, not the keys}\\n\\nstring/text: str         str()     \\'\\'    \"\"\\ntuple: tuple             tuple()   ()\\nlist: list               list()    []\\ndictionary: dict         dict()    {\"key\":\"value\"}\\n\\n\\n\\nsome notes:\\nsets cannot have duplications\\ntuple cannot be mutated.\\nlist can contain mix data types and can be mutated.\\ndictionary is also called key-value pair, or in javascript, it is called object.\\njson is another key-value pair example\\n\\n\\n'"
      ]
     },
     "execution_count": 17,
     "metadata": {},
     "output_type": "execute_result"
    }
   ],
   "source": [
    "\"\"\"\n",
    "\n",
    "numerical: int, float\n",
    "boolean: bool            True False\n",
    "set: set                 set ()    {}    {set cannot ahve duplicates}  {set only contains the values, not the keys}\n",
    "\n",
    "string/text: str         str()     ''    \"\"\n",
    "tuple: tuple             tuple()   ()\n",
    "list: list               list()    []\n",
    "dictionary: dict         dict()    {\"key\":\"value\"}\n",
    "\n",
    "\n",
    "\n",
    "some notes:\n",
    "sets cannot have duplications\n",
    "tuple cannot be mutated.\n",
    "list can contain mix data types and can be mutated.\n",
    "dictionary is also called key-value pair, or in javascript, it is called object.\n",
    "json is another key-value pair example\n",
    "\n",
    "\n",
    "\"\"\""
   ]
  },
  {
   "cell_type": "markdown",
   "id": "12f3a92b-2341-4ebf-9888-73997ce4008f",
   "metadata": {},
   "source": [
    "# Numerical"
   ]
  },
  {
   "cell_type": "code",
   "execution_count": 18,
   "id": "27a3448f-e65f-4566-ba07-22ac826d8af9",
   "metadata": {},
   "outputs": [],
   "source": [
    "a = 5"
   ]
  },
  {
   "cell_type": "code",
   "execution_count": 19,
   "id": "e82fb7e6-18c5-44a8-974c-11f1d2606a21",
   "metadata": {},
   "outputs": [
    {
     "data": {
      "text/plain": [
       "int"
      ]
     },
     "execution_count": 19,
     "metadata": {},
     "output_type": "execute_result"
    }
   ],
   "source": [
    "type(a)"
   ]
  },
  {
   "cell_type": "code",
   "execution_count": 20,
   "id": "95d1f23a-0cb7-474a-a3b7-345086615704",
   "metadata": {},
   "outputs": [],
   "source": [
    "b = 5.8"
   ]
  },
  {
   "cell_type": "code",
   "execution_count": 21,
   "id": "9dcae5fd-f9ad-4dac-84d8-36582b7e997b",
   "metadata": {},
   "outputs": [
    {
     "data": {
      "text/plain": [
       "float"
      ]
     },
     "execution_count": 21,
     "metadata": {},
     "output_type": "execute_result"
    }
   ],
   "source": [
    "type(b)"
   ]
  },
  {
   "cell_type": "code",
   "execution_count": 22,
   "id": "ae3d5328-c3d4-42f3-92ab-bb8d3cecd453",
   "metadata": {},
   "outputs": [
    {
     "data": {
      "text/plain": [
       "5"
      ]
     },
     "execution_count": 22,
     "metadata": {},
     "output_type": "execute_result"
    }
   ],
   "source": [
    "int(b) # convert float b to integer"
   ]
  },
  {
   "cell_type": "code",
   "execution_count": 23,
   "id": "3b6571df-170f-47ef-9692-c8b1b192d7a3",
   "metadata": {},
   "outputs": [
    {
     "data": {
      "text/plain": [
       "5.0"
      ]
     },
     "execution_count": 23,
     "metadata": {},
     "output_type": "execute_result"
    }
   ],
   "source": [
    "float(a) # convert integer a into float"
   ]
  },
  {
   "cell_type": "markdown",
   "id": "ac80e65e-cf67-4224-9afa-f6015971657f",
   "metadata": {},
   "source": [
    "# Boolean"
   ]
  },
  {
   "cell_type": "code",
   "execution_count": 24,
   "id": "35757759-d555-43fd-b37b-0ec5bc97655e",
   "metadata": {},
   "outputs": [],
   "source": [
    "c = False"
   ]
  },
  {
   "cell_type": "code",
   "execution_count": 25,
   "id": "db51f533-7b1d-47a1-99a8-3ae7eb9aeea4",
   "metadata": {},
   "outputs": [],
   "source": [
    "d = True"
   ]
  },
  {
   "cell_type": "code",
   "execution_count": 27,
   "id": "73e36db9-7c62-4847-9695-31dd638ca3c5",
   "metadata": {},
   "outputs": [
    {
     "data": {
      "text/plain": [
       "bool"
      ]
     },
     "execution_count": 27,
     "metadata": {},
     "output_type": "execute_result"
    }
   ],
   "source": [
    "type(c)"
   ]
  },
  {
   "cell_type": "markdown",
   "id": "9b8fffea-32a3-4de3-aeef-5e26f82f5d00",
   "metadata": {},
   "source": [
    "# sets"
   ]
  },
  {
   "cell_type": "code",
   "execution_count": 28,
   "id": "850c0ec3-44a2-4a36-989f-9e3e15513b55",
   "metadata": {},
   "outputs": [],
   "source": [
    "my_set = {1,2,3,4,4,5,1,2,\"a\",\"b\",\"c\",\"a\",7,a,b,c,d}"
   ]
  },
  {
   "cell_type": "code",
   "execution_count": 29,
   "id": "80b2b004-752a-43d7-a10e-5e93772b2f3a",
   "metadata": {},
   "outputs": [
    {
     "data": {
      "text/plain": [
       "set"
      ]
     },
     "execution_count": 29,
     "metadata": {},
     "output_type": "execute_result"
    }
   ],
   "source": [
    "type(my_set)"
   ]
  },
  {
   "cell_type": "code",
   "execution_count": 30,
   "id": "59d4c324-9dbe-4102-8a6e-50da0067ed05",
   "metadata": {},
   "outputs": [
    {
     "data": {
      "text/plain": [
       "{1, 2, 3, 4, 5, 5.8, 7, False, 'a', 'b', 'c'}"
      ]
     },
     "execution_count": 30,
     "metadata": {},
     "output_type": "execute_result"
    }
   ],
   "source": [
    "my_set"
   ]
  },
  {
   "cell_type": "code",
   "execution_count": 32,
   "id": "251ef715-f364-44d8-bb34-032573ada7dd",
   "metadata": {},
   "outputs": [],
   "source": [
    "# question: what is the value of d\n",
    "# value of d is True"
   ]
  },
  {
   "cell_type": "code",
   "execution_count": 33,
   "id": "4af062fb-bcda-4dd6-a539-1f55a0fcc602",
   "metadata": {},
   "outputs": [
    {
     "data": {
      "text/plain": [
       "140734641088952"
      ]
     },
     "execution_count": 33,
     "metadata": {},
     "output_type": "execute_result"
    }
   ],
   "source": [
    "id(hash(d))"
   ]
  },
  {
   "cell_type": "code",
   "execution_count": 34,
   "id": "b07d6500-d143-40e8-b331-06624dd43daa",
   "metadata": {},
   "outputs": [
    {
     "data": {
      "text/plain": [
       "140734641088952"
      ]
     },
     "execution_count": 34,
     "metadata": {},
     "output_type": "execute_result"
    }
   ],
   "source": [
    "id(hash(1))"
   ]
  },
  {
   "cell_type": "code",
   "execution_count": 35,
   "id": "c3a32047-fa3b-44e3-b75b-d4605845d1aa",
   "metadata": {},
   "outputs": [],
   "source": [
    "my_set.add(\"Frank\")"
   ]
  },
  {
   "cell_type": "code",
   "execution_count": 36,
   "id": "5cb3dce6-3f5c-458f-b264-88af53ac10de",
   "metadata": {},
   "outputs": [
    {
     "data": {
      "text/plain": [
       "{1, 2, 3, 4, 5, 5.8, 7, False, 'Frank', 'a', 'b', 'c'}"
      ]
     },
     "execution_count": 36,
     "metadata": {},
     "output_type": "execute_result"
    }
   ],
   "source": [
    "my_set"
   ]
  },
  {
   "cell_type": "code",
   "execution_count": 37,
   "id": "dedae2c4-8372-424f-aa78-668a800ee307",
   "metadata": {},
   "outputs": [
    {
     "data": {
      "text/plain": [
       "False"
      ]
     },
     "execution_count": 37,
     "metadata": {},
     "output_type": "execute_result"
    }
   ],
   "source": [
    "my_set.pop()"
   ]
  },
  {
   "cell_type": "code",
   "execution_count": 38,
   "id": "d48fd8e4-f5da-4a3e-ad67-3b4706f3f3ee",
   "metadata": {},
   "outputs": [
    {
     "data": {
      "text/plain": [
       "{1, 2, 3, 4, 5, 5.8, 7, 'Frank', 'a', 'b', 'c'}"
      ]
     },
     "execution_count": 38,
     "metadata": {},
     "output_type": "execute_result"
    }
   ],
   "source": [
    "my_set"
   ]
  },
  {
   "cell_type": "code",
   "execution_count": 39,
   "id": "5ed5d642-34e6-46d5-99eb-e916e275db0d",
   "metadata": {},
   "outputs": [],
   "source": [
    "my_set.remove(\"Frank\")"
   ]
  },
  {
   "cell_type": "code",
   "execution_count": 40,
   "id": "9e0e437e-afd9-477e-9907-c40985c4ba52",
   "metadata": {},
   "outputs": [
    {
     "data": {
      "text/plain": [
       "{1, 2, 3, 4, 5, 5.8, 7, 'a', 'b', 'c'}"
      ]
     },
     "execution_count": 40,
     "metadata": {},
     "output_type": "execute_result"
    }
   ],
   "source": [
    "my_set"
   ]
  },
  {
   "cell_type": "code",
   "execution_count": 41,
   "id": "9e057316-4d37-49d4-902c-19688a28d070",
   "metadata": {},
   "outputs": [],
   "source": [
    "my_set2 = {1,2,\"k\",\"l\",\"o\"}"
   ]
  },
  {
   "cell_type": "code",
   "execution_count": 43,
   "id": "f0902b0f-127c-4562-8d82-671a523abef0",
   "metadata": {},
   "outputs": [],
   "source": [
    "new_set = my_set.intersection(my_set2)"
   ]
  },
  {
   "cell_type": "code",
   "execution_count": 44,
   "id": "4df2e9d3-f7b1-4916-95c2-604bbb4555da",
   "metadata": {},
   "outputs": [
    {
     "data": {
      "text/plain": [
       "{1, 2}"
      ]
     },
     "execution_count": 44,
     "metadata": {},
     "output_type": "execute_result"
    }
   ],
   "source": [
    "new_set"
   ]
  },
  {
   "cell_type": "code",
   "execution_count": 45,
   "id": "6670e2ea-07c7-4f9d-b0dd-dc1caccb9024",
   "metadata": {},
   "outputs": [
    {
     "data": {
      "text/plain": [
       "{1, 2, 3, 4, 5, 5.8, 7, 'a', 'b', 'c'}"
      ]
     },
     "execution_count": 45,
     "metadata": {},
     "output_type": "execute_result"
    }
   ],
   "source": [
    "my_set"
   ]
  },
  {
   "cell_type": "markdown",
   "id": "c479e954-fe12-449b-bfcb-f45cae1ff0fa",
   "metadata": {},
   "source": [
    "# tuple"
   ]
  },
  {
   "cell_type": "code",
   "execution_count": 48,
   "id": "4caee51f-d3b2-434d-9f07-d94b6883457b",
   "metadata": {},
   "outputs": [],
   "source": [
    "my_tuple = (1,2,3,4,4,5,1,2,\"a\",\"b\",\"c\",\"a\",7,a,b,c,d)"
   ]
  },
  {
   "cell_type": "code",
   "execution_count": 49,
   "id": "9074b393-5a52-45f4-8f81-c815d5061db7",
   "metadata": {},
   "outputs": [
    {
     "data": {
      "text/plain": [
       "(1, 2, 3, 4, 4, 5, 1, 2, 'a', 'b', 'c', 'a', 7, 5, 5.8, False, True)"
      ]
     },
     "execution_count": 49,
     "metadata": {},
     "output_type": "execute_result"
    }
   ],
   "source": [
    "my_tuple"
   ]
  },
  {
   "cell_type": "code",
   "execution_count": 50,
   "id": "ebae67eb-bc8d-462c-8751-5ea43b07b5ee",
   "metadata": {},
   "outputs": [
    {
     "data": {
      "text/plain": [
       "'c'"
      ]
     },
     "execution_count": 50,
     "metadata": {},
     "output_type": "execute_result"
    }
   ],
   "source": [
    "my_tuple[10]"
   ]
  },
  {
   "cell_type": "code",
   "execution_count": 51,
   "id": "65711a81-42d6-4e1b-a8f5-a99ae44faa93",
   "metadata": {},
   "outputs": [
    {
     "data": {
      "text/plain": [
       "3"
      ]
     },
     "execution_count": 51,
     "metadata": {},
     "output_type": "execute_result"
    }
   ],
   "source": [
    "my_tuple.count(1)\n",
    "# how many times the value of 1 appears in my tuple"
   ]
  },
  {
   "cell_type": "code",
   "execution_count": 53,
   "id": "b99e33be-a139-4ce2-9209-5ac8218c9175",
   "metadata": {},
   "outputs": [
    {
     "data": {
      "text/plain": [
       "8"
      ]
     },
     "execution_count": 53,
     "metadata": {},
     "output_type": "execute_result"
    }
   ],
   "source": [
    "my_tuple.index(\"a\")\n",
    "# index location \"a\" appearing the first time in my tuple is 8"
   ]
  },
  {
   "cell_type": "code",
   "execution_count": 54,
   "id": "073b7509-6437-4b74-83dc-81f1e8e24a1c",
   "metadata": {},
   "outputs": [],
   "source": [
    "my_tuple2 = my_tuple + (\"frank\", \"charlie\", 999)"
   ]
  },
  {
   "cell_type": "code",
   "execution_count": 56,
   "id": "2cd505ab-679c-4be9-ad40-159d9fc170a6",
   "metadata": {},
   "outputs": [
    {
     "name": "stdout",
     "output_type": "stream",
     "text": [
      "(1, 2, 3, 4, 4, 5, 1, 2, 'a', 'b', 'c', 'a', 7, 5, 5.8, False, True, 'frank', 'charlie', 999)\n"
     ]
    }
   ],
   "source": [
    "print(my_tuple2)"
   ]
  },
  {
   "cell_type": "markdown",
   "id": "e3cecc24-75ec-45d4-83c9-25a012553b00",
   "metadata": {},
   "source": [
    "# String"
   ]
  },
  {
   "cell_type": "code",
   "execution_count": 57,
   "id": "c425d9c0-a181-4eba-8b89-c5f197045efc",
   "metadata": {},
   "outputs": [],
   "source": [
    "my_str =  \" python IS nice: % ^ @ 1 2 3  i like it \""
   ]
  },
  {
   "cell_type": "code",
   "execution_count": 58,
   "id": "1784ccfd-55dc-4560-a85a-c7a00c7676a9",
   "metadata": {},
   "outputs": [
    {
     "data": {
      "text/plain": [
       "str"
      ]
     },
     "execution_count": 58,
     "metadata": {},
     "output_type": "execute_result"
    }
   ],
   "source": [
    "type(my_str)"
   ]
  },
  {
   "cell_type": "code",
   "execution_count": 59,
   "id": "de1faf10-8ee5-4e64-855f-90240d7ab73d",
   "metadata": {},
   "outputs": [
    {
     "data": {
      "text/plain": [
       "' '"
      ]
     },
     "execution_count": 59,
     "metadata": {},
     "output_type": "execute_result"
    }
   ],
   "source": [
    "my_str[0]"
   ]
  },
  {
   "cell_type": "code",
   "execution_count": 60,
   "id": "4e134142-ceee-4dbc-a464-e7f8e11fe0c0",
   "metadata": {},
   "outputs": [
    {
     "data": {
      "text/plain": [
       "' python is nice: % ^ @ 1 2 3  i like it '"
      ]
     },
     "execution_count": 60,
     "metadata": {},
     "output_type": "execute_result"
    }
   ],
   "source": [
    "my_str.capitalize()"
   ]
  },
  {
   "cell_type": "code",
   "execution_count": 61,
   "id": "559641b4-eb23-4a43-ba62-13f8e4443bcb",
   "metadata": {},
   "outputs": [
    {
     "data": {
      "text/plain": [
       "' python IS nick: % ^ @ 1 2 3  i likk it '"
      ]
     },
     "execution_count": 61,
     "metadata": {},
     "output_type": "execute_result"
    }
   ],
   "source": [
    "my_str.replace(\"e\",\"k\")"
   ]
  },
  {
   "cell_type": "code",
   "execution_count": 62,
   "id": "61d37949-e165-4061-b822-ea3fe9c8005e",
   "metadata": {},
   "outputs": [
    {
     "data": {
      "text/plain": [
       "'pythonISnice:%^@123ilikeit'"
      ]
     },
     "execution_count": 62,
     "metadata": {},
     "output_type": "execute_result"
    }
   ],
   "source": [
    "my_str.replace(\" \",\"\") # single space with no space"
   ]
  },
  {
   "cell_type": "code",
   "execution_count": 63,
   "id": "d4902a50-14ab-4e25-928e-f7321c72f528",
   "metadata": {},
   "outputs": [
    {
     "data": {
      "text/plain": [
       "' python IS nice: % ^ @ 1 2 3i like it '"
      ]
     },
     "execution_count": 63,
     "metadata": {},
     "output_type": "execute_result"
    }
   ],
   "source": [
    "my_str.replace(\"  \",\"\") # double space with no space"
   ]
  },
  {
   "cell_type": "code",
   "execution_count": 64,
   "id": "53a39c95-0ade-406e-9d26-67a43fd36d76",
   "metadata": {},
   "outputs": [
    {
     "data": {
      "text/plain": [
       "' PYTHON IS NICE: % ^ @ 1 2 3  I LIKE IT '"
      ]
     },
     "execution_count": 64,
     "metadata": {},
     "output_type": "execute_result"
    }
   ],
   "source": [
    "my_str.upper()"
   ]
  },
  {
   "cell_type": "code",
   "execution_count": 65,
   "id": "2dd5c6d4-04d3-48ad-b4cf-2708938e863c",
   "metadata": {},
   "outputs": [
    {
     "data": {
      "text/plain": [
       "' python is nice: % ^ @ 1 2 3  i like it '"
      ]
     },
     "execution_count": 65,
     "metadata": {},
     "output_type": "execute_result"
    }
   ],
   "source": [
    "my_str.lower()"
   ]
  },
  {
   "cell_type": "code",
   "execution_count": 66,
   "id": "bb288740-e269-4dc9-b866-cbe0773e7c65",
   "metadata": {},
   "outputs": [
    {
     "data": {
      "text/plain": [
       "['python', 'IS', 'nice:', '%', '^', '@', '1', '2', '3', 'i', 'like', 'it']"
      ]
     },
     "execution_count": 66,
     "metadata": {},
     "output_type": "execute_result"
    }
   ],
   "source": [
    "my_str.split()"
   ]
  },
  {
   "cell_type": "code",
   "execution_count": 67,
   "id": "5c8fe968-4c9d-429d-bf6d-8525400283b7",
   "metadata": {},
   "outputs": [
    {
     "data": {
      "text/plain": [
       "[' python IS nice', ' % ^ @ 1 2 3  i like it ']"
      ]
     },
     "execution_count": 67,
     "metadata": {},
     "output_type": "execute_result"
    }
   ],
   "source": [
    "my_str.split(\":\")"
   ]
  },
  {
   "cell_type": "code",
   "execution_count": 68,
   "id": "ad132581-f43e-45e2-9433-720440ed5848",
   "metadata": {},
   "outputs": [
    {
     "data": {
      "text/plain": [
       "' python IS nice'"
      ]
     },
     "execution_count": 68,
     "metadata": {},
     "output_type": "execute_result"
    }
   ],
   "source": [
    "my_str.split(\":\")[0]"
   ]
  },
  {
   "cell_type": "code",
   "execution_count": 70,
   "id": "d9e25a9e-f613-47e2-947b-2651841eb330",
   "metadata": {},
   "outputs": [
    {
     "data": {
      "text/plain": [
       "6"
      ]
     },
     "execution_count": 70,
     "metadata": {},
     "output_type": "execute_result"
    }
   ],
   "source": [
    "my_str.find(\"n\")\n",
    "# tells me that character n in index location is 6"
   ]
  },
  {
   "cell_type": "code",
   "execution_count": 71,
   "id": "02706407-74b0-466c-a949-025062e6882f",
   "metadata": {},
   "outputs": [
    {
     "data": {
      "text/plain": [
       "'python IS nice: % ^ @ 1 2 3  i like it'"
      ]
     },
     "execution_count": 71,
     "metadata": {},
     "output_type": "execute_result"
    }
   ],
   "source": [
    "my_str.strip()"
   ]
  },
  {
   "cell_type": "code",
   "execution_count": 72,
   "id": "968cb428-17c1-4374-95c1-a60803e162dc",
   "metadata": {},
   "outputs": [
    {
     "data": {
      "text/plain": [
       "' python IS nice: % ^ @ 1 2 3  i like it'"
      ]
     },
     "execution_count": 72,
     "metadata": {},
     "output_type": "execute_result"
    }
   ],
   "source": [
    "my_str.rstrip()"
   ]
  },
  {
   "cell_type": "code",
   "execution_count": 73,
   "id": "6c8d237e-72b9-48c0-82a5-47a644f145bb",
   "metadata": {},
   "outputs": [
    {
     "data": {
      "text/plain": [
       "'python IS nice: % ^ @ 1 2 3  i like it '"
      ]
     },
     "execution_count": 73,
     "metadata": {},
     "output_type": "execute_result"
    }
   ],
   "source": [
    "my_str.lstrip()"
   ]
  },
  {
   "cell_type": "code",
   "execution_count": 74,
   "id": "756f327c-40e2-462d-8ff4-572b67185903",
   "metadata": {},
   "outputs": [
    {
     "data": {
      "text/plain": [
       "' PYTHON is NICE: % ^ @ 1 2 3  I LIKE IT '"
      ]
     },
     "execution_count": 74,
     "metadata": {},
     "output_type": "execute_result"
    }
   ],
   "source": [
    "my_str.swapcase()"
   ]
  },
  {
   "cell_type": "code",
   "execution_count": 75,
   "id": "95a123ad-c251-4379-b0d4-a43d0d678ed8",
   "metadata": {},
   "outputs": [
    {
     "data": {
      "text/plain": [
       "' Python Is Nice: % ^ @ 1 2 3  I Like It '"
      ]
     },
     "execution_count": 75,
     "metadata": {},
     "output_type": "execute_result"
    }
   ],
   "source": [
    "my_str.title()"
   ]
  },
  {
   "cell_type": "markdown",
   "id": "684555b3-861a-4b5a-8eb0-96c22a078e74",
   "metadata": {},
   "source": [
    "### List"
   ]
  },
  {
   "cell_type": "code",
   "execution_count": 76,
   "id": "c52e924b-8f26-401e-896a-bfebad2bfc44",
   "metadata": {},
   "outputs": [],
   "source": [
    "my_list = [1,2,3,4,5,\"a\",\"b\",\"c\",\"d\",\"e\"]"
   ]
  },
  {
   "cell_type": "code",
   "execution_count": 77,
   "id": "54bc812e-9a3a-4d3d-a039-1d918ad87012",
   "metadata": {},
   "outputs": [
    {
     "data": {
      "text/plain": [
       "list"
      ]
     },
     "execution_count": 77,
     "metadata": {},
     "output_type": "execute_result"
    }
   ],
   "source": [
    "type(my_list)"
   ]
  },
  {
   "cell_type": "code",
   "execution_count": 79,
   "id": "893fbbe0-b18f-495f-9348-740b2d1d5d00",
   "metadata": {},
   "outputs": [
    {
     "data": {
      "text/plain": [
       "'d'"
      ]
     },
     "execution_count": 79,
     "metadata": {},
     "output_type": "execute_result"
    }
   ],
   "source": [
    "my_list.pop()\n",
    "\n",
    "# pop function in list is an inplace = True operation\n"
   ]
  },
  {
   "cell_type": "code",
   "execution_count": 80,
   "id": "fefaef5a-9d18-4d52-8416-b320eb05a62a",
   "metadata": {},
   "outputs": [
    {
     "data": {
      "text/plain": [
       "[1, 2, 3, 4, 5, 'a', 'b', 'c']"
      ]
     },
     "execution_count": 80,
     "metadata": {},
     "output_type": "execute_result"
    }
   ],
   "source": [
    "my_list"
   ]
  },
  {
   "cell_type": "code",
   "execution_count": 81,
   "id": "235f3285-5f5e-4d6d-98d0-d57a4424cd85",
   "metadata": {},
   "outputs": [
    {
     "data": {
      "text/plain": [
       "5"
      ]
     },
     "execution_count": 81,
     "metadata": {},
     "output_type": "execute_result"
    }
   ],
   "source": [
    "my_list.index(\"a\")"
   ]
  },
  {
   "cell_type": "code",
   "execution_count": 82,
   "id": "d449a4f2-1e69-45af-8553-890f6b7e0105",
   "metadata": {},
   "outputs": [],
   "source": [
    "my_list.append(\"Frank\")"
   ]
  },
  {
   "cell_type": "code",
   "execution_count": 83,
   "id": "3d5a8024-927e-4b29-a8f6-9c2e5d7e2d0d",
   "metadata": {},
   "outputs": [
    {
     "data": {
      "text/plain": [
       "[1, 2, 3, 4, 5, 'a', 'b', 'c', 'Frank']"
      ]
     },
     "execution_count": 83,
     "metadata": {},
     "output_type": "execute_result"
    }
   ],
   "source": [
    "my_list"
   ]
  },
  {
   "cell_type": "code",
   "execution_count": 85,
   "id": "8f34f6ee-3667-4e0b-a842-c4cbf69bc68d",
   "metadata": {},
   "outputs": [],
   "source": [
    "my_list.extend([\"jack\",\"charlie\",\"julia\"])"
   ]
  },
  {
   "cell_type": "code",
   "execution_count": 86,
   "id": "6222fee6-720c-4791-93c9-0a2745cb45e3",
   "metadata": {},
   "outputs": [
    {
     "data": {
      "text/plain": [
       "[1, 2, 3, 4, 5, 'a', 'b', 'c', 'Frank', 'jack', 'charlie', 'julia']"
      ]
     },
     "execution_count": 86,
     "metadata": {},
     "output_type": "execute_result"
    }
   ],
   "source": [
    "my_list"
   ]
  },
  {
   "cell_type": "code",
   "execution_count": 87,
   "id": "069f4c06-1a07-4ecc-8aa7-d70d035afa34",
   "metadata": {},
   "outputs": [],
   "source": [
    "my_list.remove(\"Frank\")"
   ]
  },
  {
   "cell_type": "code",
   "execution_count": 88,
   "id": "f6adfa4c-87f5-45c4-a9d0-331dfcd39fc1",
   "metadata": {},
   "outputs": [
    {
     "data": {
      "text/plain": [
       "[1, 2, 3, 4, 5, 'a', 'b', 'c', 'jack', 'charlie', 'julia']"
      ]
     },
     "execution_count": 88,
     "metadata": {},
     "output_type": "execute_result"
    }
   ],
   "source": [
    "my_list"
   ]
  },
  {
   "cell_type": "markdown",
   "id": "fc6f3648-6483-40cc-83a7-44ac58895480",
   "metadata": {},
   "source": [
    "### Dictionary"
   ]
  },
  {
   "cell_type": "code",
   "execution_count": 92,
   "id": "ee75af60-11a0-4a94-8a15-fe71beb87930",
   "metadata": {},
   "outputs": [],
   "source": [
    "my_dict = {\n",
    "\n",
    "    \"jan\":\"julia\",\n",
    "    \"feb\":\"charlie\",\n",
    "    \"mar\":\"drew\",\n",
    "    \"apr\":\"jon\"\n",
    "}"
   ]
  },
  {
   "cell_type": "code",
   "execution_count": 93,
   "id": "e2b5a0a7-b2c0-4420-a7a2-c67d15a8f2f3",
   "metadata": {},
   "outputs": [
    {
     "data": {
      "text/plain": [
       "{'jan': 'julia', 'feb': 'charlie', 'mar': 'drew', 'apr': 'jon'}"
      ]
     },
     "execution_count": 93,
     "metadata": {},
     "output_type": "execute_result"
    }
   ],
   "source": [
    "my_dict"
   ]
  },
  {
   "cell_type": "code",
   "execution_count": 94,
   "id": "8b7f67da-810c-4576-8390-d43509d971ea",
   "metadata": {},
   "outputs": [
    {
     "data": {
      "text/plain": [
       "dict_keys(['jan', 'feb', 'mar', 'apr'])"
      ]
     },
     "execution_count": 94,
     "metadata": {},
     "output_type": "execute_result"
    }
   ],
   "source": [
    "my_dict.keys()"
   ]
  },
  {
   "cell_type": "code",
   "execution_count": 95,
   "id": "bb54a2b8-0d5b-475c-8484-ea5d5c333857",
   "metadata": {},
   "outputs": [
    {
     "data": {
      "text/plain": [
       "dict_values(['julia', 'charlie', 'drew', 'jon'])"
      ]
     },
     "execution_count": 95,
     "metadata": {},
     "output_type": "execute_result"
    }
   ],
   "source": [
    "my_dict.values()"
   ]
  },
  {
   "cell_type": "code",
   "execution_count": 96,
   "id": "88d3ea6f-07a3-44ae-83bd-66e1d75cc889",
   "metadata": {},
   "outputs": [
    {
     "data": {
      "text/plain": [
       "dict_items([('jan', 'julia'), ('feb', 'charlie'), ('mar', 'drew'), ('apr', 'jon')])"
      ]
     },
     "execution_count": 96,
     "metadata": {},
     "output_type": "execute_result"
    }
   ],
   "source": [
    "my_dict.items()"
   ]
  },
  {
   "cell_type": "code",
   "execution_count": 97,
   "id": "13324dae-ed2e-4158-ab65-bb15c0fced16",
   "metadata": {},
   "outputs": [
    {
     "data": {
      "text/plain": [
       "'jon'"
      ]
     },
     "execution_count": 97,
     "metadata": {},
     "output_type": "execute_result"
    }
   ],
   "source": [
    "my_dict[\"apr\"]"
   ]
  },
  {
   "cell_type": "markdown",
   "id": "7ce106fc-193d-4e38-aab5-efe9660b903d",
   "metadata": {},
   "source": [
    "### For loop"
   ]
  },
  {
   "cell_type": "code",
   "execution_count": null,
   "id": "bc0e5410-b15d-4ee2-9fb1-cb9773803a12",
   "metadata": {},
   "outputs": [],
   "source": [
    "\"\"\"\n",
    "for x in iterable:\n",
    "    somecode\n",
    "\n",
    "x is your iteration point; it is a placeholder\n",
    "iterable is the thing that you want to iterate through\n",
    "somecode is whatever you want to do\n",
    "\n",
    "for key, value is iterable\n",
    "    somecode\n",
    "\n",
    "key and value are iteration points from a dictionary\n",
    "\n",
    "\n",
    "\"\"\""
   ]
  },
  {
   "cell_type": "code",
   "execution_count": 99,
   "id": "02bec850-4c76-401b-a0b6-c7df309109fd",
   "metadata": {},
   "outputs": [
    {
     "data": {
      "text/plain": [
       "range(0, 5)"
      ]
     },
     "execution_count": 99,
     "metadata": {},
     "output_type": "execute_result"
    }
   ],
   "source": [
    "range(5)"
   ]
  },
  {
   "cell_type": "code",
   "execution_count": 100,
   "id": "ca0b2dbb-4d96-4f11-88d8-4333f94359c0",
   "metadata": {},
   "outputs": [
    {
     "data": {
      "text/plain": [
       "[0, 1, 2, 3, 4]"
      ]
     },
     "execution_count": 100,
     "metadata": {},
     "output_type": "execute_result"
    }
   ],
   "source": [
    "list(range(5))"
   ]
  },
  {
   "cell_type": "code",
   "execution_count": 101,
   "id": "b9856386-c007-47f2-994a-b496476e8fcc",
   "metadata": {},
   "outputs": [
    {
     "name": "stdout",
     "output_type": "stream",
     "text": [
      "0\n",
      "1\n",
      "2\n",
      "3\n",
      "4\n"
     ]
    }
   ],
   "source": [
    "for x in range(5):\n",
    "    print(x)"
   ]
  },
  {
   "cell_type": "code",
   "execution_count": 103,
   "id": "76da24a4-149c-43b8-94bb-dc35a819bee5",
   "metadata": {},
   "outputs": [
    {
     "name": "stdout",
     "output_type": "stream",
     "text": [
      "d\n",
      "a\n",
      "l\n",
      "l\n",
      "a\n",
      "s\n"
     ]
    }
   ],
   "source": [
    "city = \"dallas\"\n",
    "for x in city:\n",
    "    print(x)\n"
   ]
  },
  {
   "cell_type": "markdown",
   "id": "f43a6a08-918c-4dba-b25a-6ad8722b33e6",
   "metadata": {},
   "source": [
    "### if else"
   ]
  },
  {
   "cell_type": "code",
   "execution_count": 104,
   "id": "ab9e3bf3-785a-401a-8765-8e8a9209a584",
   "metadata": {},
   "outputs": [
    {
     "data": {
      "text/plain": [
       "'\\n\\nif some confition:\\n    some code\\nelsif some condition:\\n    some more code\\n\\n\\n'"
      ]
     },
     "execution_count": 104,
     "metadata": {},
     "output_type": "execute_result"
    }
   ],
   "source": [
    "\"\"\"\n",
    "\n",
    "if some confition:\n",
    "    some code\n",
    "elif some condition:\n",
    "    some more code\n",
    "elif some condition:\n",
    "    some more code\n",
    "else some condition:\n",
    "    some more code\n",
    "\n",
    "\"\"\""
   ]
  },
  {
   "cell_type": "code",
   "execution_count": 106,
   "id": "dcd00a3a-9138-45e4-b73a-f3e233e3af79",
   "metadata": {},
   "outputs": [
    {
     "name": "stdout",
     "output_type": "stream",
     "text": [
      "yeah x is 1\n"
     ]
    }
   ],
   "source": [
    "x = 1\n",
    "y = 10\n",
    "\n",
    "if x == 1:\n",
    "    print(\"yeah x is 1\")"
   ]
  },
  {
   "cell_type": "code",
   "execution_count": 108,
   "id": "a6da984f-09b1-445d-8d52-0abc243e676f",
   "metadata": {},
   "outputs": [
    {
     "name": "stdout",
     "output_type": "stream",
     "text": [
      "y is 10\n"
     ]
    }
   ],
   "source": [
    "if x == 7:\n",
    "    print(\"yeah x is 1\")\n",
    "elif y == 10 :\n",
    "    print(\"y is 10\")"
   ]
  },
  {
   "cell_type": "code",
   "execution_count": null,
   "id": "fffa2bf3-f1c6-4de6-aeb5-713c5fa4fe50",
   "metadata": {},
   "outputs": [],
   "source": []
  }
 ],
 "metadata": {
  "kernelspec": {
   "display_name": "Python 3 (ipykernel)",
   "language": "python",
   "name": "python3"
  },
  "language_info": {
   "codemirror_mode": {
    "name": "ipython",
    "version": 3
   },
   "file_extension": ".py",
   "mimetype": "text/x-python",
   "name": "python",
   "nbconvert_exporter": "python",
   "pygments_lexer": "ipython3",
   "version": "3.12.7"
  }
 },
 "nbformat": 4,
 "nbformat_minor": 5
}
